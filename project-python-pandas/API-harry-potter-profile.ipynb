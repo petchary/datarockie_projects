import requests 
import time
import pandas as pd 

names = []
genders = []
bloods = []
nationalities = []
families = []

for i in range(1,17):
    url = f"https://legacy--api.herokuapp.com/api/v1/characters/{i}"
    resp = requests.get(url)
    result = resp.json()
    names.append(result['name'])
    genders.append(result['gender'])
    bloods.append(result['blood'])
    nationalities.append(result['nationality'])
    families.append(result['family'])
    time.sleep(1)

df = pd.DataFrame({
    "name": names, "gender": genders, "blood": bloods, "nationality": nationalities, "family": families
})

df
